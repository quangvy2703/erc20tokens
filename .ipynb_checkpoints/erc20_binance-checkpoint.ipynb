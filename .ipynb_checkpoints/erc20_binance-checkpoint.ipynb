{
 "cells": [
  {
   "cell_type": "code",
   "execution_count": 94,
   "metadata": {},
   "outputs": [],
   "source": [
    "from bs4 import BeautifulSoup\n",
    "from requests import get\n",
    "from IPython.display import clear_output\n",
    "\n",
    "url = \"https://etherscan.io/tokentxns?a=0xfe9e8709d3215310075d67e3ed32a380ccf451c8&p=\"\n",
    "\n",
    "def get_transactions():\n",
    "    transactions = []\n",
    "    for i in range(1, 201):\n",
    "        response = get(url + str(i))\n",
    "        html = BeautifulSoup(response.text, 'html.parser')\n",
    "        table = html.find_all('table')[0].find_all('tr')\n",
    "        for tran in table[1:]:\n",
    "            infos = tran.find_all('td')\n",
    "            _time = infos[1].find('span')['title'].encode('utf8').strip()\n",
    "            _from = infos[2].get_text().encode('utf8').strip()\n",
    "            _to = infos[4].get_text().encode('utf8').strip()\n",
    "            _value = infos[5].get_text().encode('utf8').strip().replace(',','').split('.')[0]\n",
    "            _token = infos[6].get_text().encode('utf8').strip()\n",
    "            transactions.append({   'token': _token,\n",
    "                                    'from': _from,\n",
    "                                    'to': _to,\n",
    "                                    'time': _time,\n",
    "                                    'value': _value,\n",
    "                                    'token': _token})\n",
    "    return transactions\n",
    "\n",
    "def get_cycles(transactions):\n",
    "    in_trans = {}\n",
    "    out_trans = {}\n",
    "    cycles = []\n",
    "    for tran in transactions:\n",
    "        if tran['token'] not in in_trans:\n",
    "            in_trans[tran['token']] = []\n",
    "        if tran['to'] == \"Binance_5\":\n",
    "            if tran['token'] in in_trans and len(in_trans[tran['token']]) > 0:\n",
    "                if in_trans[tran['token']][-1]['from'] == \"Binance_5\":\n",
    "                    cycles.append(in_trans[tran['token']])\n",
    "                    del in_trans[tran['token']]\n",
    "                    in_trans[tran['token']] = []               \n",
    "\n",
    "            in_trans[tran['token']].append(tran)\n",
    "        if tran['from'] == \"Binance_5\":\n",
    "            in_trans[tran['token']].append(tran)\n",
    "    for cycle in in_trans:\n",
    "        cycles.append(in_trans[cycle])\n",
    "    return cycles\n",
    "\n",
    "def get_total(cycle):\n",
    "    total_in = 0\n",
    "    total_out = 0\n",
    "    for tran in cycle:\n",
    "        if tran['to'] == \"Binance_5\":\n",
    "            total_in += int(tran['value'])\n",
    "        if tran['from'] == \"Binance_5\":\n",
    "            total_out += int(tran['value'])\n",
    "    return total_in, total_out\n",
    "\n",
    "def find_entry(cycles):\n",
    "    for cycle in cycles:\n",
    "        clear_output()\n",
    "        _in, _out = get_total(cycle)\n",
    "        print \"{:,}\".format(_in),  \"{:,}\".format(_out)\n",
    "        for tran in cycle:\n",
    "            print tran\n",
    "        raw_input()\n",
    "    \n",
    "def find_entry_by_token(cycles, token):\n",
    "    for cycle in cycles:\n",
    "        if cycle[0]['token'] == token:\n",
    "            clear_output()\n",
    "            _in, _out = get_total(cycle)\n",
    "            print \"{:,}\".format(_in),  \"{:,}\".format(_out)\n",
    "            for tran in cycle:\n",
    "                print tran\n",
    "            raw_input()"
   ]
  },
  {
   "cell_type": "code",
   "execution_count": 87,
   "metadata": {},
   "outputs": [],
   "source": [
    "trans = get_transactions()\n"
   ]
  },
  {
   "cell_type": "code",
   "execution_count": 90,
   "metadata": {},
   "outputs": [],
   "source": [
    "reversed_trans = trans[::-1]\n",
    "cycles = get_cycles(reversed_trans)"
   ]
  },
  {
   "cell_type": "code",
   "execution_count": 96,
   "metadata": {
    "scrolled": true
   },
   "outputs": [
    {
     "name": "stdout",
     "output_type": "stream",
     "text": [
      "2,868,278 500,888\n",
      "{'to': 'Binance_5', 'token': 'Metal', 'from': 'Binance_1', 'value': '300237', 'time': 'Jan-05-2018 02:16:55 AM'}\n",
      "{'to': 'Binance_5', 'token': 'Metal', 'from': 'Binance_1', 'value': '639733', 'time': 'Jan-06-2018 04:58:28 AM'}\n",
      "{'to': 'Binance_5', 'token': 'Metal', 'from': 'Binance_1', 'value': '303335', 'time': 'Jan-07-2018 05:23:27 PM'}\n",
      "{'to': 'Binance_5', 'token': 'Metal', 'from': 'Binance_1', 'value': '307936', 'time': 'Jan-10-2018 07:48:55 AM'}\n",
      "{'to': 'Binance_5', 'token': 'Metal', 'from': 'Binance_1', 'value': '304776', 'time': 'Jan-11-2018 07:17:00 PM'}\n",
      "{'to': 'Binance_5', 'token': 'Metal', 'from': 'Binance_1', 'value': '305934', 'time': 'Jan-15-2018 12:22:03 AM'}\n",
      "{'to': 'Binance_5', 'token': 'Metal', 'from': 'Binance_1', 'value': '337122', 'time': 'Jan-18-2018 07:47:44 PM'}\n",
      "{'to': 'Binance_5', 'token': 'Metal', 'from': 'Binance_1', 'value': '369205', 'time': 'Jan-19-2018 09:37:09 PM'}\n",
      "{'to': 'Binance_1', 'token': 'Metal', 'from': 'Binance_5', 'value': '500888', 'time': 'Feb-06-2018 05:26:17 PM'}\n"
     ]
    },
    {
     "ename": "KeyboardInterrupt",
     "evalue": "",
     "output_type": "error",
     "traceback": [
      "\u001b[0;31m---------------------------------------------------------------------------\u001b[0m",
      "\u001b[0;31mKeyboardInterrupt\u001b[0m                         Traceback (most recent call last)",
      "\u001b[0;32m<ipython-input-96-475f36fcf77b>\u001b[0m in \u001b[0;36m<module>\u001b[0;34m()\u001b[0m\n\u001b[0;32m----> 1\u001b[0;31m \u001b[0mfind_entry\u001b[0m\u001b[0;34m(\u001b[0m\u001b[0mcycles\u001b[0m\u001b[0;34m[\u001b[0m\u001b[0;36m100\u001b[0m\u001b[0;34m:\u001b[0m\u001b[0;34m]\u001b[0m\u001b[0;34m)\u001b[0m\u001b[0;34m\u001b[0m\u001b[0m\n\u001b[0m",
      "\u001b[0;32m<ipython-input-94-602a093d54af>\u001b[0m in \u001b[0;36mfind_entry\u001b[0;34m(cycles)\u001b[0m\n\u001b[1;32m     64\u001b[0m         \u001b[0;32mfor\u001b[0m \u001b[0mtran\u001b[0m \u001b[0;32min\u001b[0m \u001b[0mcycle\u001b[0m\u001b[0;34m:\u001b[0m\u001b[0;34m\u001b[0m\u001b[0m\n\u001b[1;32m     65\u001b[0m             \u001b[0;32mprint\u001b[0m \u001b[0mtran\u001b[0m\u001b[0;34m\u001b[0m\u001b[0m\n\u001b[0;32m---> 66\u001b[0;31m         \u001b[0mraw_input\u001b[0m\u001b[0;34m(\u001b[0m\u001b[0;34m)\u001b[0m\u001b[0;34m\u001b[0m\u001b[0m\n\u001b[0m\u001b[1;32m     67\u001b[0m \u001b[0;34m\u001b[0m\u001b[0m\n",
      "\u001b[0;32m/home/vypham/.local/lib/python2.7/site-packages/ipykernel/kernelbase.pyc\u001b[0m in \u001b[0;36mraw_input\u001b[0;34m(self, prompt)\u001b[0m\n\u001b[1;32m    702\u001b[0m             \u001b[0mself\u001b[0m\u001b[0;34m.\u001b[0m\u001b[0m_parent_ident\u001b[0m\u001b[0;34m,\u001b[0m\u001b[0;34m\u001b[0m\u001b[0m\n\u001b[1;32m    703\u001b[0m             \u001b[0mself\u001b[0m\u001b[0;34m.\u001b[0m\u001b[0m_parent_header\u001b[0m\u001b[0;34m,\u001b[0m\u001b[0;34m\u001b[0m\u001b[0m\n\u001b[0;32m--> 704\u001b[0;31m             \u001b[0mpassword\u001b[0m\u001b[0;34m=\u001b[0m\u001b[0mFalse\u001b[0m\u001b[0;34m,\u001b[0m\u001b[0;34m\u001b[0m\u001b[0m\n\u001b[0m\u001b[1;32m    705\u001b[0m         )\n\u001b[1;32m    706\u001b[0m \u001b[0;34m\u001b[0m\u001b[0m\n",
      "\u001b[0;32m/home/vypham/.local/lib/python2.7/site-packages/ipykernel/kernelbase.pyc\u001b[0m in \u001b[0;36m_input_request\u001b[0;34m(self, prompt, ident, parent, password)\u001b[0m\n\u001b[1;32m    732\u001b[0m             \u001b[0;32mexcept\u001b[0m \u001b[0mKeyboardInterrupt\u001b[0m\u001b[0;34m:\u001b[0m\u001b[0;34m\u001b[0m\u001b[0m\n\u001b[1;32m    733\u001b[0m                 \u001b[0;31m# re-raise KeyboardInterrupt, to truncate traceback\u001b[0m\u001b[0;34m\u001b[0m\u001b[0;34m\u001b[0m\u001b[0m\n\u001b[0;32m--> 734\u001b[0;31m                 \u001b[0;32mraise\u001b[0m \u001b[0mKeyboardInterrupt\u001b[0m\u001b[0;34m\u001b[0m\u001b[0m\n\u001b[0m\u001b[1;32m    735\u001b[0m             \u001b[0;32melse\u001b[0m\u001b[0;34m:\u001b[0m\u001b[0;34m\u001b[0m\u001b[0m\n\u001b[1;32m    736\u001b[0m                 \u001b[0;32mbreak\u001b[0m\u001b[0;34m\u001b[0m\u001b[0m\n",
      "\u001b[0;31mKeyboardInterrupt\u001b[0m: "
     ]
    }
   ],
   "source": [
    "find_entry(cycles[100:])"
   ]
  },
  {
   "cell_type": "code",
   "execution_count": null,
   "metadata": {},
   "outputs": [],
   "source": [
    "all_tokens = [token for tran in cycles]"
   ]
  }
 ],
 "metadata": {
  "kernelspec": {
   "display_name": "Python 2",
   "language": "python",
   "name": "python2"
  },
  "language_info": {
   "codemirror_mode": {
    "name": "ipython",
    "version": 2
   },
   "file_extension": ".py",
   "mimetype": "text/x-python",
   "name": "python",
   "nbconvert_exporter": "python",
   "pygments_lexer": "ipython2",
   "version": "2.7.15rc1"
  }
 },
 "nbformat": 4,
 "nbformat_minor": 2
}
